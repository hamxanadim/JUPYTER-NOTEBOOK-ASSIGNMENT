{
 "cells": [
  {
   "cell_type": "markdown",
   "id": "c689892f",
   "metadata": {},
   "source": [
    "# Data Science Tools and Ecosystem"
   ]
  },
  {
   "cell_type": "code",
   "execution_count": null,
   "id": "bb462ea3",
   "metadata": {},
   "outputs": [],
   "source": [
    "In this notebook, Data Science Tools and Ecosystem are summarized."
   ]
  },
  {
   "cell_type": "code",
   "execution_count": null,
   "id": "d3e3af4d",
   "metadata": {},
   "outputs": [],
   "source": [
    "Some of the popular languages that Data Scientists use are:\n",
    "    Python\n",
    "    R\n",
    "    SQL\n",
    "    C++"
   ]
  },
  {
   "cell_type": "code",
   "execution_count": null,
   "id": "1d93ed11",
   "metadata": {},
   "outputs": [],
   "source": [
    "Some of the commonly used libraries used by Data Scientists include:\n",
    "    pandas\n",
    "    tensorflow\n",
    "    numpy\n",
    "    matplotlib\n",
    "    keras"
   ]
  },
  {
   "cell_type": "code",
   "execution_count": null,
   "id": "2f5e0485",
   "metadata": {},
   "outputs": [],
   "source": [
    "Data Science Tools:\n",
    "    Jupyter notebook\n",
    "    tabeau\n",
    "    MATLAB"
   ]
  },
  {
   "cell_type": "markdown",
   "id": "be9eee58",
   "metadata": {},
   "source": [
    "##Below are a few examples of evaluating arithmetic expressions in Python"
   ]
  },
  {
   "cell_type": "code",
   "execution_count": 2,
   "id": "279b2c35",
   "metadata": {},
   "outputs": [
    {
     "data": {
      "text/plain": [
       "17"
      ]
     },
     "execution_count": 2,
     "metadata": {},
     "output_type": "execute_result"
    }
   ],
   "source": [
    "#This a simple arithmetic expression to mutiply then add integers\n",
    "(3*4)+5"
   ]
  },
  {
   "cell_type": "code",
   "execution_count": 3,
   "id": "aa8c194f",
   "metadata": {},
   "outputs": [
    {
     "data": {
      "text/plain": [
       "3.3333333333333335"
      ]
     },
     "execution_count": 3,
     "metadata": {},
     "output_type": "execute_result"
    }
   ],
   "source": [
    "#This will convert 200 minutes to hours by diving by 60\n",
    "200/60"
   ]
  },
  {
   "cell_type": "markdown",
   "id": "3e0ab273",
   "metadata": {},
   "source": [
    "# Objectives:"
   ]
  },
  {
   "cell_type": "code",
   "execution_count": null,
   "id": "677473ae",
   "metadata": {},
   "outputs": [],
   "source": [
    "* Learning different langauge\n",
    "* learning different tools\n",
    "*learn touse different libraries"
   ]
  },
  {
   "cell_type": "markdown",
   "id": "cac2d7b5",
   "metadata": {},
   "source": [
    "# Author:  Hamza Nadeem"
   ]
  }
 ],
 "metadata": {
  "kernelspec": {
   "display_name": "Python 3 (ipykernel)",
   "language": "python",
   "name": "python3"
  },
  "language_info": {
   "codemirror_mode": {
    "name": "ipython",
    "version": 3
   },
   "file_extension": ".py",
   "mimetype": "text/x-python",
   "name": "python",
   "nbconvert_exporter": "python",
   "pygments_lexer": "ipython3",
   "version": "3.10.7"
  }
 },
 "nbformat": 4,
 "nbformat_minor": 5
}
